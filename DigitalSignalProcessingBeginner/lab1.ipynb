{
 "cells": [
  {
   "cell_type": "code",
   "execution_count": 4,
   "metadata": {},
   "outputs": [],
   "source": [
    "import numpy as np\n",
    "import matplotlib.pyplot as plt\n",
    "import scipy.signal as signal\n",
    "\n",
    "import ipywidgets as weights\n",
    "from ipywidgets import interact, interact_manual"
   ]
  },
  {
   "cell_type": "code",
   "execution_count": 5,
   "metadata": {},
   "outputs": [],
   "source": [
    "def draw_pzmap(dlti):\n",
    "  plt.plot(np.real(dlti.zeros), np.imag(dlti.zeros), 'o', mfc='none')\n",
    "  plt.plot(np.real(dlti.poles), np.imag(dlti.poles), 'x')\n",
    "  w = np.linspace(0, 2*np.pi)\n",
    "  plt.plot(np.cos(w), np.sin(w), 'y--')\n",
    "  limits = plt.axis(\"equal\")\n",
    "  plt.grid()\n",
    "\n",
    "def draw_resp_stem(x, y):\n",
    "  plt.stem(x, use_line_collection=True)\n",
    "  (markerline, _, _) = plt.stem(y, linefmt='r', markerfmt='ro', use_line_collection=True)\n",
    "  markerline.set_markerfacecolor('none')"
   ]
  },
  {
   "cell_type": "code",
   "execution_count": 14,
   "metadata": {},
   "outputs": [
    {
     "name": "stdout",
     "output_type": "stream",
     "text": [
      "[0 1 2 3 4 5 6 7 8 9]\n",
      "[[ 0.  0.]\n",
      " [ 1.  2.]\n",
      " [ 2.  5.]\n",
      " [ 3.  8.]\n",
      " [ 4. 11.]\n",
      " [ 5. 14.]\n",
      " [ 6. 17.]\n",
      " [ 7. 20.]\n",
      " [ 8. 23.]\n",
      " [ 9. 26.]]\n"
     ]
    }
   ],
   "source": [
    "# 加权移动平均 weighted moving average \n",
    "from collections.abc import Sequence\n",
    "def direct_wma(b: Sequence, x: Sequence) -> Sequence:\n",
    "  y = np.zeros(len(x))\n",
    "  x_pad = np.concatenate((np.zeros(len(b)-1), x))\n",
    "  b_rev = np.array(b[::-1], dtype='d')\n",
    "  for i in range(len(x)):\n",
    "    y[i] = np.dot(b_rev, x_pad[i: i + len(b)])\n",
    "  return y\n",
    "\n",
    "b = [2, 1]\n",
    "x = np.arange(10)\n",
    "print(x)\n",
    "y = direct_wma(b, x)\n",
    "print(np.array([x, y]).T)"
   ]
  },
  {
   "cell_type": "code",
   "execution_count": 17,
   "metadata": {},
   "outputs": [
    {
     "name": "stdout",
     "output_type": "stream",
     "text": [
      "[[ 0.  0.]\n",
      " [ 1.  2.]\n",
      " [ 2.  5.]\n",
      " [ 3.  8.]\n",
      " [ 4. 11.]\n",
      " [ 5. 14.]\n",
      " [ 6. 17.]\n",
      " [ 7. 20.]\n",
      " [ 8. 23.]\n",
      " [ 9. 26.]]\n"
     ]
    }
   ],
   "source": [
    "b = [2, 1]\n",
    "x = np.arange(10, dtype='d')\n",
    "y = signal.lfilter(b, [1], x)\n",
    "print(np.array([x, y]).T)"
   ]
  }
 ],
 "metadata": {
  "kernelspec": {
   "display_name": "Python 3",
   "language": "python",
   "name": "python3"
  },
  "language_info": {
   "codemirror_mode": {
    "name": "ipython",
    "version": 3
   },
   "file_extension": ".py",
   "mimetype": "text/x-python",
   "name": "python",
   "nbconvert_exporter": "python",
   "pygments_lexer": "ipython3",
   "version": "3.11.0"
  },
  "orig_nbformat": 4
 },
 "nbformat": 4,
 "nbformat_minor": 2
}
