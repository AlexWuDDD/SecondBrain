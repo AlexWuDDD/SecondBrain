{
 "cells": [
  {
   "attachments": {},
   "cell_type": "markdown",
   "metadata": {},
   "source": [
    "## 1 权衡时间与空间\n",
    "- 理想情况下，我们希望算法的时间复杂福和空间复杂度都能够达到最优，而实际上，同时优化时间复杂度和空间复杂度是非常困难的。\n",
    "- 降低时间复杂度，往往是以提升空间复杂度为代价的，反之亦然。\n",
    "- 以空间换时间\n",
    "- 以时间换空间\n",
    "- 大多数情况下，事件都是比空间更宝贵的，只要空间复杂度不要太离谱、能接收就行，**因此以空间换时间最为常用**"
   ]
  },
  {
   "attachments": {},
   "cell_type": "markdown",
   "metadata": {},
   "source": [
    "### 1.1 示例题目 - 两数之和\n",
    "\n",
    "给定一个整数数组nums和一个整数目标值target, 请你在该数组中找出“和”为目标值target的那两个整数，并返回它们的数组下标。\n",
    "\n",
    "你可以假设每种输入只会对应一个答案。但是，数组中同一元素在答案里不能重复出现。\n",
    "\n",
    "你可以an任意顺序返回答案。"
   ]
  },
  {
   "attachments": {},
   "cell_type": "markdown",
   "metadata": {},
   "source": [
    "#### 1.1.1 方法一： 暴力枚举"
   ]
  },
  {
   "cell_type": "code",
   "execution_count": 1,
   "metadata": {},
   "outputs": [],
   "source": [
    "def two_sum_brute_force(nums: list[int], target: int) -> list[int]:\n",
    "  \"\"\"方法一，暴力枚举\"\"\"\n",
    "  # 两层循环，时间复杂度O(n^2)\n",
    "  for i in range(len(nums)-1):\n",
    "    for j in range(i+1, len(nums)):\n",
    "      if nums[i] + nums[j] == target:\n",
    "        return [i,j]\n",
    "  return []"
   ]
  },
  {
   "attachments": {},
   "cell_type": "markdown",
   "metadata": {},
   "source": [
    "该方法的事件复杂度为$O(N^2)$, 空间复杂度为$O(1)$, **属于时间换空间**。本方法时间复杂较高，在大数据量下非常耗时。"
   ]
  },
  {
   "attachments": {},
   "cell_type": "markdown",
   "metadata": {},
   "source": [
    "#### 1.1.2 方法二：辅助哈希表"
   ]
  },
  {
   "cell_type": "code",
   "execution_count": 9,
   "metadata": {},
   "outputs": [],
   "source": [
    "def two_sum_hash_table(nums: list[int], target: int) -> list[int]:\n",
    "  \"\"\"方法二：辅助哈希表\"\"\"\n",
    "  # 辅助哈希表，空间复杂度 O(n)\n",
    "  dic = {}\n",
    "  # 单层循环，事件复杂度 O(n)\n",
    "  for i in range(len(nums)):\n",
    "    if target - nums[i] in dic:\n",
    "      return [dic[target-nums[i]], i]\n",
    "    dic[nums[i]] = i\n",
    "  return []"
   ]
  },
  {
   "attachments": {},
   "cell_type": "markdown",
   "metadata": {},
   "source": [
    "该方法的事件复杂度为$O(N)$, 空间复杂度为$O(N)$, **体现空间换时间**。本方法虽然引入了额外空间使用，但时间和空间使用整体更加均衡，因为为本题最优解法。"
   ]
  },
  {
   "attachments": {},
   "cell_type": "markdown",
   "metadata": {},
   "source": [
    "### 测试"
   ]
  },
  {
   "cell_type": "code",
   "execution_count": 10,
   "metadata": {},
   "outputs": [
    {
     "name": "stdout",
     "output_type": "stream",
     "text": [
      "**Brute Force**\n",
      "The answers is: 5502, 9999\n",
      "Elaspsed time with brute force: 4.236571550369263 seconds\n",
      "**Hash Tbale**\n",
      "The answers is: 7750, 7751\n",
      "Elaspsed time with brute force: 0.0010292530059814453 seconds\n"
     ]
    }
   ],
   "source": [
    "import time\n",
    "\n",
    "nums: list[int] = [n for n in range(10000)]\n",
    "target =  15501\n",
    "\n",
    "print(\"**Brute Force**\")\n",
    "start_time = time.time()\n",
    "ret:list[int] = two_sum_brute_force(nums, target)\n",
    "end_time = time.time()\n",
    "elapased_time = end_time - start_time\n",
    "if len(ret) != 0:\n",
    "  print(f\"The answers is: {nums[ret[0]]}, {nums[ret[1]]}\")\n",
    "else:\n",
    "  print(\"we do not have answers\")\n",
    "print(f\"Elaspsed time with brute force: {elapased_time} seconds\")\n",
    "\n",
    "print(\"**Hash Tbale**\")\n",
    "start_time = time.time()\n",
    "ret:list[int] = two_sum_hash_table(nums, target)\n",
    "end_time = time.time()\n",
    "elapased_time = end_time - start_time\n",
    "if len(ret) != 0:\n",
    "  print(f\"The answers is: {nums[ret[0]]}, {nums[ret[1]]}\")\n",
    "else:\n",
    "  print(\"we do not have answers\")\n",
    "print(f\"Elaspsed time with brute force: {elapased_time} seconds\")"
   ]
  },
  {
   "cell_type": "code",
   "execution_count": 11,
   "metadata": {},
   "outputs": [
    {
     "name": "stdout",
     "output_type": "stream",
     "text": [
      "120\n"
     ]
    }
   ],
   "source": [
    "def factorial_recur(n: int) -> int:\n",
    "    \"\"\" 阶乘阶（递归实现）\"\"\"\n",
    "    if n == 0: return 1\n",
    "    count: int = 0\n",
    "    # 从 1 个分裂出 n 个\n",
    "    for _ in range(n):\n",
    "        count += factorial_recur(n - 1)\n",
    "    return count\n",
    "  \n",
    "print(factorial_recur(5))"
   ]
  }
 ],
 "metadata": {
  "kernelspec": {
   "display_name": "Python 3",
   "language": "python",
   "name": "python3"
  },
  "language_info": {
   "codemirror_mode": {
    "name": "ipython",
    "version": 3
   },
   "file_extension": ".py",
   "mimetype": "text/x-python",
   "name": "python",
   "nbconvert_exporter": "python",
   "pygments_lexer": "ipython3",
   "version": "3.11.0"
  },
  "orig_nbformat": 4
 },
 "nbformat": 4,
 "nbformat_minor": 2
}
