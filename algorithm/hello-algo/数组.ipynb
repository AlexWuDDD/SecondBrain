{
 "cells": [
  {
   "cell_type": "code",
   "execution_count": 1,
   "metadata": {},
   "outputs": [
    {
     "name": "stdout",
     "output_type": "stream",
     "text": [
      "[0, 0, 0, 0, 0]\n",
      "[1, 3, 2, 5, 4]\n"
     ]
    }
   ],
   "source": [
    "# 初始化数组\n",
    "arr: list[int] = [0]*5\n",
    "print(arr)\n",
    "nums: list[int] = [1,3,2,5,4]\n",
    "print(nums)"
   ]
  },
  {
   "attachments": {},
   "cell_type": "markdown",
   "metadata": {},
   "source": [
    "### 数组优点\n",
    "\n",
    "**在数组中访问元素非常高效。**由于数组元素被存储在连续的内存空间中，因此计算数组元素的内存地址非常容易。给定数组首个元素的地址和某个元素的索引，我们可以使用以下公式计算得到该元素的内存地址：\n",
    ">元素内存地址 = 数组内存地址 + 元素长度 + 元素索引\n",
    "```python\n",
    "elementAddr = firstElementAddr + elementLength * elementIndex\n",
    "```"
   ]
  },
  {
   "cell_type": "code",
   "execution_count": 4,
   "metadata": {},
   "outputs": [],
   "source": [
    "# 访问元素的高效性带来了诸多遍历。例如，我们可以在O(1)时间内随机获取数组中的任意一个元素\n",
    "import random\n",
    "def random_access(nums: list[int]) -> int:\n",
    "  \"\"\"随机访问元素\"\"\"\n",
    "  # 在区间[0, len(nums)-1]中随机抽取一个数字\n",
    "  random_index = random.randint(0, len(nums)-1)\n",
    "  # 获取并返回随机元素\n",
    "  random_num = nums[random_index]\n",
    "  return random_num"
   ]
  },
  {
   "attachments": {},
   "cell_type": "markdown",
   "metadata": {},
   "source": [
    "### 数组缺点\n",
    "\n",
    "**数组在初始化后长度不可变**。由于系统无法保证数组之后的内存空间是可用的，因此数组长度无法扩展。而若希望扩容数组，则需要新建一个数组，然后把原数组元素依次拷贝到新数组，在数组很大的情况下，这是非常耗时的。"
   ]
  },
  {
   "cell_type": "code",
   "execution_count": 5,
   "metadata": {},
   "outputs": [],
   "source": [
    "def extend(nums: list[int], enlarge: int) -> list[int]:\n",
    "  \"\"\"扩展数组长度\"\"\"\n",
    "  # 初始化一个扩展长度后的数组\n",
    "  res = [0]*(len(nums) + enlarge)\n",
    "  # 将原数组中的所有元素复制到新数组\n",
    "  for i in range(len(nums)):\n",
    "    res[i] = nums[i]\n",
    "  # 返回扩展后的新数组\n",
    "  return res"
   ]
  },
  {
   "attachments": {},
   "cell_type": "markdown",
   "metadata": {},
   "source": [
    "**数组中插入或删除元素效率低下**。如果我们想要在数组中插入一个元素，由于数组元素在内存中是“紧挨着的”，它们之间灭有空间再放任何数据。因此，我们不得不将此索引之后的所有元素都向后移动一位，然后再把元素赋值给该索引。"
   ]
  },
  {
   "cell_type": "code",
   "execution_count": null,
   "metadata": {},
   "outputs": [],
   "source": [
    "def insert(nums: list[int], num: int, index: int)->None:\n",
    "  \"\"\"在数组的索引index处插入元素num\"\"\"\n",
    "  # 把索引index以及之后的所有元素向后移动一位\n",
    "  for i in range(len(nums)-1, index, -1):\n",
    "    nums[i] = nums[i-1]\n",
    "  # 将 num 赋给 index 处元素\n",
    "  nums[index] = num\n",
    "\n",
    "def remove(nums: list[int], index: int)-> None:\n",
    "  \"\"\"删除缩影index处元素\"\"\"\n",
    "  # 把索引index之后的所有元素向前移动一位\n",
    "  for i in range(index, len(nums)-1):\n",
    "    nums[i] = nums[i + 1]"
   ]
  },
  {
   "attachments": {},
   "cell_type": "markdown",
   "metadata": {},
   "source": [
    "总结来看，数组的插入和删除操作有以下缺点：\n",
    "- **时间复杂度高**：数组的插入和删除的平均事件复杂度均为O(n),其中n为数组长度\n",
    "- **丢失元素**：由于数组的长度不可变，因此在插入元素后，超出数组长度范围的元素会丢失\n",
    "- **内存浪费**：我们可以初始化一个比较长的数组，只用前面一部分，这样在插入数据时，丢失的末尾元素都是我们不关心的，但这样做同时会造成内存空间的浪费。"
   ]
  },
  {
   "attachments": {},
   "cell_type": "markdown",
   "metadata": {},
   "source": [
    "\n",
    "### 数组常用操作"
   ]
  },
  {
   "cell_type": "code",
   "execution_count": 6,
   "metadata": {},
   "outputs": [],
   "source": [
    "def traverse(nums: list[int]) -> None:\n",
    "  \"\"\"遍历数组\"\"\"\n",
    "  count = 0\n",
    "  # 通过索引遍历数组\n",
    "  for i in range(len(nums)):\n",
    "    count += 1\n",
    "  # 直接遍历数组\n",
    "  for num in nums:\n",
    "    count += 1"
   ]
  },
  {
   "cell_type": "code",
   "execution_count": 7,
   "metadata": {},
   "outputs": [],
   "source": [
    "def find(nums: list[int], target: int) -> int:\n",
    "  \"\"\"在数组中查找指定元素\"\"\"\n",
    "  for i in range(len(nums)):\n",
    "    if nums[i] == target:\n",
    "      return i\n",
    "  return -1"
   ]
  },
  {
   "attachments": {},
   "cell_type": "markdown",
   "metadata": {},
   "source": [
    "### 数组的典型应用\n",
    "\n",
    "- **随机访问**。如果我们想要随机抽取一些样本，那么可以用数组存储，并生成一个随机序列，根据索引实现样本的随机抽取。\n",
    "- **二分查找**。例如前文查字典的例子，我们可以将字典中的所有字按照拼音顺序存储在数组中，然后使用与日常查直至字典相同的“翻开中间，排除一半”的方式，来实现一个查电子字典的算法。\n",
    "- **深度学习**。神经网络中大量使用了向量、矩阵、张量之间的线性代数元素，这些数据都是以数组的形式构建的。数组是神经网络编程中最常使用的数据结构。"
   ]
  },
  {
   "cell_type": "markdown",
   "metadata": {},
   "source": []
  }
 ],
 "metadata": {
  "kernelspec": {
   "display_name": "Python 3",
   "language": "python",
   "name": "python3"
  },
  "language_info": {
   "codemirror_mode": {
    "name": "ipython",
    "version": 3
   },
   "file_extension": ".py",
   "mimetype": "text/x-python",
   "name": "python",
   "nbconvert_exporter": "python",
   "pygments_lexer": "ipython3",
   "version": "3.11.0"
  },
  "orig_nbformat": 4
 },
 "nbformat": 4,
 "nbformat_minor": 2
}
